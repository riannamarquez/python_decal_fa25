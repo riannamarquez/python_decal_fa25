{
 "cells": [
  {
   "cell_type": "code",
   "execution_count": 1,
   "id": "50ccc092-30e8-4f75-b52d-ce3424ed9d0a",
   "metadata": {},
   "outputs": [],
   "source": [
    "import numpy as np"
   ]
  },
  {
   "cell_type": "code",
   "execution_count": 113,
   "id": "be808d76-191d-49c7-ac58-3f3e086470ba",
   "metadata": {},
   "outputs": [],
   "source": [
    "# 3.1 1d numpy arrays\n",
    "lst = [20, 27, 9, 12, 31, 17, 4, 50, 39, 35]"
   ]
  },
  {
   "cell_type": "code",
   "execution_count": 114,
   "id": "942f5b5f-4fdc-4041-8d6a-0ad5bf7b80ee",
   "metadata": {},
   "outputs": [],
   "source": [
    "arr = np.array(lst)"
   ]
  },
  {
   "cell_type": "code",
   "execution_count": 4,
   "id": "e2a63e3c-3db7-4286-9005-579e5d790d8a",
   "metadata": {},
   "outputs": [
    {
     "name": "stdout",
     "output_type": "stream",
     "text": [
      "[ 80 108  36  48 124  68  16 200 156 140]\n"
     ]
    }
   ],
   "source": [
    "print(arr * 4)"
   ]
  },
  {
   "cell_type": "code",
   "execution_count": 5,
   "id": "4235e6cc-a0e5-4c2d-a67e-0433dc9bcd1c",
   "metadata": {},
   "outputs": [
    {
     "name": "stdout",
     "output_type": "stream",
     "text": [
      "24.4\n"
     ]
    }
   ],
   "source": [
    "print(np.mean(arr))"
   ]
  },
  {
   "cell_type": "code",
   "execution_count": 6,
   "id": "a4e3e4db-d2d3-44d8-a127-9cf1938d9774",
   "metadata": {},
   "outputs": [
    {
     "name": "stdout",
     "output_type": "stream",
     "text": [
      "23.5\n"
     ]
    }
   ],
   "source": [
    "print(np.median(arr))"
   ]
  },
  {
   "cell_type": "code",
   "execution_count": 7,
   "id": "b9abe7aa-78d8-4651-9a12-1d6df18c08ef",
   "metadata": {},
   "outputs": [
    {
     "name": "stdout",
     "output_type": "stream",
     "text": [
      "13.828955130450023\n"
     ]
    }
   ],
   "source": [
    "print(np.std(arr))"
   ]
  },
  {
   "cell_type": "code",
   "execution_count": 8,
   "id": "99fe7e0e-7ae1-497f-b490-f9927e9de4b6",
   "metadata": {},
   "outputs": [
    {
     "data": {
      "text/plain": [
       "np.int64(6)"
      ]
     },
     "execution_count": 8,
     "metadata": {},
     "output_type": "execute_result"
    }
   ],
   "source": [
    "np.argmin(arr)"
   ]
  },
  {
   "cell_type": "code",
   "execution_count": 9,
   "id": "cf74c0e8-1b7a-41bd-b9d5-6cee7e2ce9dc",
   "metadata": {},
   "outputs": [
    {
     "data": {
      "text/plain": [
       "np.int64(7)"
      ]
     },
     "execution_count": 9,
     "metadata": {},
     "output_type": "execute_result"
    }
   ],
   "source": [
    "np.argmax(arr)"
   ]
  },
  {
   "cell_type": "code",
   "execution_count": 11,
   "id": "63598a28-1e84-4e81-9392-72b856a12133",
   "metadata": {},
   "outputs": [
    {
     "name": "stdout",
     "output_type": "stream",
     "text": [
      "4\n",
      "50\n"
     ]
    }
   ],
   "source": [
    "print(arr.item(6))\n",
    "print(arr.item(7))"
   ]
  },
  {
   "cell_type": "code",
   "execution_count": 12,
   "id": "bc885e2c-f0a5-4656-aa4b-4f92ca764cb8",
   "metadata": {},
   "outputs": [
    {
     "name": "stdout",
     "output_type": "stream",
     "text": [
      "4\n",
      "50\n"
     ]
    }
   ],
   "source": [
    "print(np.min(arr))\n",
    "print(np.max(arr)) # yes they match yay!"
   ]
  },
  {
   "cell_type": "code",
   "execution_count": 15,
   "id": "15749eb2-bee9-43b8-9fbd-befaa15a5885",
   "metadata": {},
   "outputs": [
    {
     "name": "stdout",
     "output_type": "stream",
     "text": [
      "[27 31 50 39 35]\n"
     ]
    }
   ],
   "source": [
    "print(arr[arr > 20])"
   ]
  },
  {
   "cell_type": "code",
   "execution_count": 32,
   "id": "ee4b88eb-19de-4034-ac6f-0630958f5f26",
   "metadata": {},
   "outputs": [],
   "source": [
    "# 3.2 2d arrays\n",
    "matrix = [\n",
    "    [5, 12, 17, 9],\n",
    "    [8, 21, 14, 3],\n",
    "    [6, 13, 19, 11]\n",
    "]\n",
    "\n",
    "matrix_arr = np.array(matrix)"
   ]
  },
  {
   "cell_type": "code",
   "execution_count": 18,
   "id": "dccb2ab1-edc5-41da-8acc-202ca5f69f16",
   "metadata": {},
   "outputs": [
    {
     "data": {
      "text/plain": [
       "(3, 4)"
      ]
     },
     "execution_count": 18,
     "metadata": {},
     "output_type": "execute_result"
    }
   ],
   "source": [
    "np.shape(matrix) # 3 rows, 4 columns"
   ]
  },
  {
   "cell_type": "code",
   "execution_count": 33,
   "id": "5651b697-64b1-423f-8f42-0336afb7ca5f",
   "metadata": {},
   "outputs": [
    {
     "name": "stdout",
     "output_type": "stream",
     "text": [
      "[17 14 19]\n",
      "[ 8 21 14  3]\n"
     ]
    }
   ],
   "source": [
    "print(matrix_arr[:, 2])\n",
    "print(matrix_arr[1, :])"
   ]
  },
  {
   "cell_type": "code",
   "execution_count": 26,
   "id": "d61d5d82-f5f4-4f38-a8ac-e0cc872f4542",
   "metadata": {},
   "outputs": [
    {
     "name": "stdout",
     "output_type": "stream",
     "text": [
      "[[5, 12, 17, 9], [8, 21, 14, 3], [6, 13, 19, 11], [5, 12, 17, 9], [8, 21, 14, 3], [6, 13, 19, 11]]\n"
     ]
    }
   ],
   "source": [
    "print(matrix * 2)"
   ]
  },
  {
   "cell_type": "code",
   "execution_count": 37,
   "id": "4d3bff75-4e06-4823-920e-f9bd9abe62be",
   "metadata": {},
   "outputs": [
    {
     "name": "stdout",
     "output_type": "stream",
     "text": [
      "6.333333333333333\n",
      "15.333333333333334\n",
      "16.666666666666668\n",
      "7.666666666666667\n"
     ]
    }
   ],
   "source": [
    "print(np.mean(matrix_arr[:, 0]))\n",
    "print(np.mean(matrix_arr[:, 1]))\n",
    "print(np.mean(matrix_arr[:, 2]))\n",
    "print(np.mean(matrix_arr[:, 3]))"
   ]
  },
  {
   "cell_type": "code",
   "execution_count": 38,
   "id": "2656d954-755b-4801-a4b7-773f7e3d6a2c",
   "metadata": {},
   "outputs": [
    {
     "name": "stdout",
     "output_type": "stream",
     "text": [
      "11.5\n"
     ]
    }
   ],
   "source": [
    "print(np.mean(matrix))"
   ]
  },
  {
   "cell_type": "code",
   "execution_count": 39,
   "id": "67842a72-4657-4b03-97f8-692629dcc964",
   "metadata": {},
   "outputs": [
    {
     "name": "stdout",
     "output_type": "stream",
     "text": [
      "8\n",
      "21\n",
      "19\n",
      "11\n",
      "5\n",
      "3\n",
      "6\n"
     ]
    }
   ],
   "source": [
    "print(np.max(matrix_arr[:, 0]))\n",
    "print(np.max(matrix_arr[:, 1]))\n",
    "print(np.max(matrix_arr[:, 2]))\n",
    "print(np.max(matrix_arr[:, 3]))\n",
    "\n",
    "print(np.min(matrix_arr[0, :]))\n",
    "print(np.min(matrix_arr[1, :]))\n",
    "print(np.min(matrix_arr[2, :]))"
   ]
  },
  {
   "cell_type": "code",
   "execution_count": 54,
   "id": "c988bd83-1a0b-4129-8039-ba301ad87bb4",
   "metadata": {},
   "outputs": [],
   "source": [
    "matrix_flat = (matrix_arr.flatten()) # it puts all the elements into one row"
   ]
  },
  {
   "cell_type": "code",
   "execution_count": 60,
   "id": "42e09ac7-5f55-46d9-880d-e2aa4c1f7350",
   "metadata": {},
   "outputs": [
    {
     "data": {
      "text/plain": [
       "np.int64(7)"
      ]
     },
     "execution_count": 60,
     "metadata": {},
     "output_type": "execute_result"
    }
   ],
   "source": [
    "np.argmin(matrix_flat)"
   ]
  },
  {
   "cell_type": "code",
   "execution_count": 61,
   "id": "487c5482-da38-41f7-86e3-c4578315f1c0",
   "metadata": {},
   "outputs": [
    {
     "data": {
      "text/plain": [
       "np.int64(5)"
      ]
     },
     "execution_count": 61,
     "metadata": {},
     "output_type": "execute_result"
    }
   ],
   "source": [
    "np.argmax(matrix_flat)"
   ]
  },
  {
   "cell_type": "code",
   "execution_count": 64,
   "id": "12b6cf61-2ce6-46aa-9f6d-57403d50ba57",
   "metadata": {},
   "outputs": [
    {
     "data": {
      "text/plain": [
       "(np.int64(1), np.int64(3))"
      ]
     },
     "execution_count": 64,
     "metadata": {},
     "output_type": "execute_result"
    }
   ],
   "source": [
    "np.unravel_index(7, matrix_arr.shape)"
   ]
  },
  {
   "cell_type": "code",
   "execution_count": 66,
   "id": "ddc8484a-f7c5-4325-9686-f0e07d404cbc",
   "metadata": {},
   "outputs": [
    {
     "name": "stdout",
     "output_type": "stream",
     "text": [
      "[17 21 19]\n"
     ]
    }
   ],
   "source": [
    "print(matrix_arr[matrix_arr > 15])"
   ]
  },
  {
   "cell_type": "code",
   "execution_count": 67,
   "id": "3a6ef6f2-9ad3-4f32-a17d-b8d330be3635",
   "metadata": {},
   "outputs": [
    {
     "name": "stdout",
     "output_type": "stream",
     "text": [
      "[[ 5  9 12 17]\n",
      " [ 3  8 14 21]\n",
      " [ 6 11 13 19]]\n"
     ]
    }
   ],
   "source": [
    "print(np.sort(matrix))"
   ]
  },
  {
   "cell_type": "code",
   "execution_count": 68,
   "id": "9727f671-94a5-4dd2-8a5f-e75ca70e6c89",
   "metadata": {},
   "outputs": [],
   "source": [
    "# 4 prime star systems"
   ]
  },
  {
   "cell_type": "code",
   "execution_count": 69,
   "id": "da046bcb-2f2e-4d10-beed-f49cdbb012f8",
   "metadata": {},
   "outputs": [],
   "source": [
    "arr = np.array([\n",
    "    [2, 3, 5],\n",
    "    [14, 6, 8],\n",
    "    [11, 13, 17],\n",
    "    [7, 10, 13]\n",
    "])"
   ]
  },
  {
   "cell_type": "code",
   "execution_count": 75,
   "id": "195a9019-25d3-4a09-8dc3-61740d3bae0a",
   "metadata": {},
   "outputs": [
    {
     "name": "stdout",
     "output_type": "stream",
     "text": [
      "[[ 2  3  5]\n",
      " [11 13 17]\n",
      " [ 7 10 13]]\n"
     ]
    }
   ],
   "source": [
    "def is_prime(num):\n",
    "    if num < 2:\n",
    "        return False\n",
    "    for i in range(2, int(num**0.5) + 1):\n",
    "        if num % i == 0:\n",
    "            return False\n",
    "    return True\n",
    "\n",
    "def prime_rows(arr):\n",
    "    return np.array([row for row in arr if any(is_prime(x) for x in row)])\n",
    "\n",
    "print(prime_rows(arr))"
   ]
  },
  {
   "cell_type": "code",
   "execution_count": 76,
   "id": "dfaf65a9-44f2-4f90-b206-008f642d277a",
   "metadata": {},
   "outputs": [],
   "source": [
    "# 5 let's play checkers!"
   ]
  },
  {
   "cell_type": "code",
   "execution_count": 78,
   "id": "c505cc8f-847d-4228-a85e-6795bb6dc99d",
   "metadata": {},
   "outputs": [
    {
     "data": {
      "text/plain": [
       "array([[0., 0., 0., 0., 0., 0., 0., 0.],\n",
       "       [0., 0., 0., 0., 0., 0., 0., 0.],\n",
       "       [0., 0., 0., 0., 0., 0., 0., 0.],\n",
       "       [0., 0., 0., 0., 0., 0., 0., 0.],\n",
       "       [0., 0., 0., 0., 0., 0., 0., 0.],\n",
       "       [0., 0., 0., 0., 0., 0., 0., 0.],\n",
       "       [0., 0., 0., 0., 0., 0., 0., 0.],\n",
       "       [0., 0., 0., 0., 0., 0., 0., 0.]])"
      ]
     },
     "execution_count": 78,
     "metadata": {},
     "output_type": "execute_result"
    }
   ],
   "source": [
    "np.zeros((8, 8))"
   ]
  },
  {
   "cell_type": "code",
   "execution_count": 84,
   "id": "a30b8edd-8838-4c64-9a40-909b6bd9f261",
   "metadata": {},
   "outputs": [],
   "source": [
    "def checkerboard():\n",
    "    board = np.zeros((8,8), dtype=int)\n",
    "    board[::2, ::2] = 1 # even rows & even columns\n",
    "    board[1::2, 1::2] = 1\n",
    "    return board"
   ]
  },
  {
   "cell_type": "code",
   "execution_count": 85,
   "id": "ec3450eb-4c5c-441f-a9a8-01198b59888c",
   "metadata": {},
   "outputs": [
    {
     "name": "stdout",
     "output_type": "stream",
     "text": [
      "[[1 0 1 0 1 0 1 0]\n",
      " [0 1 0 1 0 1 0 1]\n",
      " [1 0 1 0 1 0 1 0]\n",
      " [0 1 0 1 0 1 0 1]\n",
      " [1 0 1 0 1 0 1 0]\n",
      " [0 1 0 1 0 1 0 1]\n",
      " [1 0 1 0 1 0 1 0]\n",
      " [0 1 0 1 0 1 0 1]]\n"
     ]
    }
   ],
   "source": [
    "print(checkerboard())"
   ]
  },
  {
   "cell_type": "code",
   "execution_count": 98,
   "id": "03550be8-df7a-4652-bd1c-9ede61f1bb14",
   "metadata": {},
   "outputs": [],
   "source": [
    "def reverse_checkerboard():\n",
    "    board = np.zeros((8,8), dtype=int)\n",
    "    board[1::2, 1::2] = 1 \n",
    "    board[::2, ::2] = 1\n",
    "    return 1 - board # flips everything over"
   ]
  },
  {
   "cell_type": "code",
   "execution_count": 99,
   "id": "7591740e-30e5-444d-ab44-7fa994b6f58b",
   "metadata": {},
   "outputs": [
    {
     "name": "stdout",
     "output_type": "stream",
     "text": [
      "[[0 1 0 1 0 1 0 1]\n",
      " [1 0 1 0 1 0 1 0]\n",
      " [0 1 0 1 0 1 0 1]\n",
      " [1 0 1 0 1 0 1 0]\n",
      " [0 1 0 1 0 1 0 1]\n",
      " [1 0 1 0 1 0 1 0]\n",
      " [0 1 0 1 0 1 0 1]\n",
      " [1 0 1 0 1 0 1 0]]\n"
     ]
    }
   ],
   "source": [
    "print(reverse_checkerboard())"
   ]
  },
  {
   "cell_type": "code",
   "execution_count": 100,
   "id": "27bcd36b-3644-45c5-8dc3-3822a4a4236a",
   "metadata": {},
   "outputs": [],
   "source": [
    "# 6 the expading universe"
   ]
  },
  {
   "cell_type": "code",
   "execution_count": 102,
   "id": "aec34eee-eaee-4f3b-bd94-4b9621f564a5",
   "metadata": {},
   "outputs": [],
   "source": [
    "universe = np.array([\"galaxy\", \"clusters\"])"
   ]
  },
  {
   "cell_type": "code",
   "execution_count": 130,
   "id": "ccaf9a45-63a4-4d34-ad45-0027d6510dfd",
   "metadata": {},
   "outputs": [],
   "source": [
    "def expansion(string, space_number):\n",
    "    expanded = []\n",
    "    spaces = \" \" * space_number\n",
    "\n",
    "    for s in string:\n",
    "        new_s = spaces.join(string(s))\n",
    "        expanded.append(new_s)\n",
    "    return np.array(expanded)"
   ]
  },
  {
   "cell_type": "code",
   "execution_count": 119,
   "id": "9df085b6-a8a0-462d-948c-0c022830e3be",
   "metadata": {},
   "outputs": [],
   "source": [
    "# 7 second brightest star"
   ]
  },
  {
   "cell_type": "code",
   "execution_count": 125,
   "id": "2103bffc-ff8a-4daf-b636-01672220db41",
   "metadata": {},
   "outputs": [],
   "source": [
    "def second_dimmest(stars):\n",
    "    sorted_rows = np.sort(stars, axis=1)\n",
    "    second_brightest = sorted_rows[:, -2]\n",
    "    return second_brightest"
   ]
  },
  {
   "cell_type": "code",
   "execution_count": null,
   "id": "71bcba85-c07a-4205-b850-6409577a4ab9",
   "metadata": {},
   "outputs": [],
   "source": []
  }
 ],
 "metadata": {
  "kernelspec": {
   "display_name": "Python 3 (ipykernel)",
   "language": "python",
   "name": "python3"
  },
  "language_info": {
   "codemirror_mode": {
    "name": "ipython",
    "version": 3
   },
   "file_extension": ".py",
   "mimetype": "text/x-python",
   "name": "python",
   "nbconvert_exporter": "python",
   "pygments_lexer": "ipython3",
   "version": "3.13.5"
  }
 },
 "nbformat": 4,
 "nbformat_minor": 5
}
